{
 "cells": [
  {
   "cell_type": "code",
   "execution_count": 1,
   "metadata": {},
   "outputs": [],
   "source": [
    "%load_ext autoreload\n",
    "%autoreload 2\n"
   ]
  },
  {
   "cell_type": "code",
   "execution_count": 3,
   "metadata": {},
   "outputs": [
    {
     "data": {
      "text/plain": [
       "'a30768000008.jpg'"
      ]
     },
     "execution_count": 3,
     "metadata": {},
     "output_type": "execute_result"
    }
   ],
   "source": [
    "from pagexml.parser import parse_pagexml_file\n",
    "\n",
    "page_file = '../data/example.xml'\n",
    "\n",
    "page_doc = parse_pagexml_file(page_file)\n",
    "page_doc.id"
   ]
  },
  {
   "cell_type": "code",
   "execution_count": 15,
   "metadata": {},
   "outputs": [
    {
     "name": "stdout",
     "output_type": "stream",
     "text": [
      "{'x': 2890, 'y': 476, 'w': 40, 'h': 156} None\n",
      "                                             f. 1.\n",
      "              Inventaris ende beschrijvinge van\n",
      "\n",
      "                 naerbeschreven Cleedinge van\n",
      "                Linne ende Wollen, Item huijsraet\n",
      "                 naergelaten by Janneken de Veel\n",
      "                 oude Vrijster alhier overleden;\n",
      "                 die volgens hare dispositie van\n",
      "                 uterste wille, door d' eersame\n",
      "                Sr. hans van Essen Bouckhouder\n",
      "                vande Westinde. Compe. alhier In\n",
      "                 Amstm. versonden sullen werden\n",
      "                 naer Ryssel aen Beatricx de\n",
      "                Veel suster vande voorn. Janneken\n",
      "                 de Veel sa: Beschreven door\n",
      "                mij Henrick Schaeff Nots etc.\n",
      "                 in presentie vande ondergess.\n",
      "                 getuijgen. desen 1e. Januarij\n",
      "                 @ 1639.\n",
      "vijff floppen.\n",
      "\n",
      "Twaelf kragen soo goede als quade.\n",
      " Twaelf slaeplakens. soo goede als quade\n",
      " Twee oude brabantsche Vrouwen houven met hare\n",
      "  Custodien.\n",
      " Ses Servetten met een ammelarij van dast damast werc\n",
      "Sesthien Servetten van divertse bloem, soo goede\n",
      "als quade\n",
      "Vijff ommeslaeckens\n",
      "Twee grote handtdoecken\n",
      "een gestreepte borstrock\n",
      "noch een Slaeplaken\n",
      "Ses nacht halsdoeken soo quade als goede\n",
      "darthien Fluwijnen, soo quade als goede\n",
      "Elff hembden soo quade als goede\n",
      "vyff witte voorschoden, als boven\n",
      "een glase Lecksteen\n",
      "\n"
     ]
    }
   ],
   "source": [
    "from pagexml.helper.pagexml_helper import pretty_print_textregion\n",
    "\n",
    "pretty_print_textregion(page_doc)"
   ]
  },
  {
   "cell_type": "code",
   "execution_count": 18,
   "metadata": {},
   "outputs": [
    {
     "data": {
      "text/plain": [
       "{'x': 0, 'y': 0, 'w': 5429, 'h': 4059}"
      ]
     },
     "execution_count": 18,
     "metadata": {},
     "output_type": "execute_result"
    }
   ],
   "source": [
    "page_doc.coords.box"
   ]
  },
  {
   "cell_type": "code",
   "execution_count": null,
   "metadata": {},
   "outputs": [],
   "source": []
  },
  {
   "cell_type": "code",
   "execution_count": null,
   "metadata": {},
   "outputs": [],
   "source": []
  }
 ],
 "metadata": {
  "kernelspec": {
   "display_name": "Python 3 (ipykernel)",
   "language": "python",
   "name": "python3"
  },
  "language_info": {
   "codemirror_mode": {
    "name": "ipython",
    "version": 3
   },
   "file_extension": ".py",
   "mimetype": "text/x-python",
   "name": "python",
   "nbconvert_exporter": "python",
   "pygments_lexer": "ipython3",
   "version": "3.10.0"
  }
 },
 "nbformat": 4,
 "nbformat_minor": 4
}
