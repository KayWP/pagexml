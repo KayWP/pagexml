{
 "cells": [
  {
   "cell_type": "markdown",
   "id": "6975e34a",
   "metadata": {},
   "source": [
    "# Text search in PageXML files\n",
    "\n",
    "There are built-in functions for:\n",
    "\n",
    "- keyword/keyphrase in context search\n",
    "- term similarity search"
   ]
  },
  {
   "cell_type": "code",
   "execution_count": 1,
   "id": "5649b53a",
   "metadata": {},
   "outputs": [],
   "source": [
    "from pagexml.parser import parse_pagexml_file\n",
    "import pagexml.helper.text_helper as text_helper\n",
    "\n",
    "data_dir = '../data'\n",
    "filepath = f'{data_dir}/example.xml'\n",
    "\n",
    "lines = text_helper.LineReader(pagexml_files=[filepath])\n",
    "\n",
    "for line in lines:\n",
    "    print(line)\n"
   ]
  },
  {
   "cell_type": "markdown",
   "id": "d5837891",
   "metadata": {},
   "source": [
    "## Finding a term in the text of scans as keyword in context"
   ]
  },
  {
   "cell_type": "code",
   "execution_count": 2,
   "id": "1ef0ee71",
   "metadata": {},
   "outputs": [
    {
     "name": "stdout",
     "output_type": "stream",
     "text": [
      "            Twaelf kragen soo goede als quade\n",
      "      Twaelf slaeplakens. soo goede als quade\n",
      "          divertse bloem, soo goede\n",
      "                soo quade als goede\n",
      "                soo quade als goede\n",
      "                soo quade als goede\n"
     ]
    }
   ],
   "source": [
    "for match in text_helper.find_term_in_context('goede', lines):\n",
    "    print(match['context'])\n",
    "\n"
   ]
  },
  {
   "cell_type": "code",
   "execution_count": 3,
   "id": "57e6c515",
   "metadata": {},
   "outputs": [
    {
     "name": "stdout",
     "output_type": "stream",
     "text": [
      "         kragen soo goede als quade\n",
      "   slaeplakens. soo goede als quade\n",
      "         bloem, soo goede\n",
      "          quade als goede\n",
      "          quade als goede\n",
      "          quade als goede\n"
     ]
    }
   ],
   "source": [
    "# You can determine the context size\n",
    "for match in text_helper.find_term_in_context('goede', lines, context_size=2):\n",
    "    print(match['context'])\n",
    "\n"
   ]
  },
  {
   "cell_type": "code",
   "execution_count": 4,
   "id": "35f38614",
   "metadata": {},
   "outputs": [
    {
     "name": "stdout",
     "output_type": "stream",
     "text": [
      "      Twaelf kragen soo goede als quade\n",
      "Twaelf slaeplakens. soo goede als quade\n",
      "    divertse bloem, soo goede\n"
     ]
    }
   ],
   "source": [
    "# You can search for phrases as well as words\n",
    "for match in text_helper.find_term_in_context('soo goede', lines, context_size=2):\n",
    "    print(match['context'])\n",
    "\n"
   ]
  },
  {
   "cell_type": "markdown",
   "id": "4c0f8052",
   "metadata": {},
   "source": [
    "## Finding words similar to a target word\n",
    "\n",
    "With the SkipGram similarity class words from PageXML scans can be indexed on character n-grams with skips, to allow search for words similar to a target word."
   ]
  },
  {
   "cell_type": "code",
   "execution_count": 5,
   "id": "8a633c1b",
   "metadata": {},
   "outputs": [
    {
     "data": {
      "text/plain": [
       "[('goede', 0.8451542547285165),\n",
       " ('grote', 0.33806170189140655),\n",
       " ('oude', 0.19999999999999996),\n",
       " ('ende', 0.19999999999999996),\n",
       " ('boven', 0.16903085094570328),\n",
       " ('kragen', 0.14907119849998599),\n",
       " ('bloem,', 0.14907119849998599),\n",
       " ('werden', 0.14907119849998599)]"
      ]
     },
     "execution_count": 5,
     "metadata": {},
     "output_type": "execute_result"
    }
   ],
   "source": [
    "from pagexml.parser import parse_pagexml_file\n",
    "scan = parse_pagexml_file(pagexml_file=filepath)\n",
    "words = scan.get_words()\n",
    "\n",
    "skip_sim = text_helper.SkipgramSimilarity(ngram_length=2, skip_length=1, terms=words)\n",
    "\n",
    "skip_sim.rank_similar('goed')"
   ]
  }
 ],
 "metadata": {
  "kernelspec": {
   "display_name": "Python 3 (ipykernel)",
   "language": "python",
   "name": "python3"
  },
  "language_info": {
   "codemirror_mode": {
    "name": "ipython",
    "version": 3
   },
   "file_extension": ".py",
   "mimetype": "text/x-python",
   "name": "python",
   "nbconvert_exporter": "python",
   "pygments_lexer": "ipython3",
   "version": "3.10.9"
  },
  "toc": {
   "base_numbering": 1,
   "nav_menu": {},
   "number_sections": true,
   "sideBar": true,
   "skip_h1_title": false,
   "title_cell": "Table of Contents",
   "title_sidebar": "Contents",
   "toc_cell": false,
   "toc_position": {},
   "toc_section_display": true,
   "toc_window_display": false
  }
 },
 "nbformat": 4,
 "nbformat_minor": 5
}
