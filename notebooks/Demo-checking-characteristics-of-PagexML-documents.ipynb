{
 "cells": [
  {
   "cell_type": "markdown",
   "id": "61889300",
   "metadata": {},
   "source": [
    "# Checking characteristics of PageXML documents against expectations\n",
    "\n",
    "**Note**: This tutorial follows and depends on the tutorial on [Reading PageXML files from archives](./Demo-reading-pagexml-files-from-archive.ipynb). It assumes you have downloaded the PageXML archives and derived line format files from them. \n",
    "\n",
    "This tutorials shows how you can check the characteristics of sets of PageXML files and see if they meet expectations. This allows different ways of qualitatively checking the quality of the HTR/OCR output.\n",
    "\n",
    "Checks:\n",
    "- _language identification_ of scans,\n",
    "- _outliers_ in text characteristics, based on word frequency distributions,\n",
    "- _outliers_ in layout characteristics"
   ]
  },
  {
   "cell_type": "code",
   "execution_count": null,
   "id": "a85b34de",
   "metadata": {},
   "outputs": [],
   "source": []
  }
 ],
 "metadata": {
  "kernelspec": {
   "display_name": "Python 3 (ipykernel)",
   "language": "python",
   "name": "python3"
  },
  "language_info": {
   "codemirror_mode": {
    "name": "ipython",
    "version": 3
   },
   "file_extension": ".py",
   "mimetype": "text/x-python",
   "name": "python",
   "nbconvert_exporter": "python",
   "pygments_lexer": "ipython3",
   "version": "3.10.9"
  },
  "toc": {
   "base_numbering": 1,
   "nav_menu": {},
   "number_sections": true,
   "sideBar": true,
   "skip_h1_title": false,
   "title_cell": "Table of Contents",
   "title_sidebar": "Contents",
   "toc_cell": false,
   "toc_position": {},
   "toc_section_display": true,
   "toc_window_display": false
  }
 },
 "nbformat": 4,
 "nbformat_minor": 5
}
