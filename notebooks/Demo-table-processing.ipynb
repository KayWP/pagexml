{
 "cells": [
  {
   "cell_type": "markdown",
   "id": "cc8a9b49-56d8-4aa9-8e57-1b24a672bb87",
   "metadata": {},
   "source": [
    "# Processing PageXML with Tables"
   ]
  },
  {
   "cell_type": "code",
   "execution_count": 1,
   "id": "d68a25ac-decb-4a86-96f3-9b674bc52add",
   "metadata": {},
   "outputs": [],
   "source": [
    "%reload_ext autoreload\n",
    "%autoreload 2\n"
   ]
  },
  {
   "cell_type": "markdown",
   "id": "3e81fec0-2a30-4554-8fc7-9b4c81a023e1",
   "metadata": {},
   "source": [
    "## Reading PageXML files with Tables\n",
    "\n",
    "Reading a PageXML file with a table is no different than reading any other PageXML file:"
   ]
  },
  {
   "cell_type": "code",
   "execution_count": 2,
   "id": "186ea29a-4da8-4cf7-a043-561fa349310e",
   "metadata": {},
   "outputs": [
    {
     "data": {
      "text/plain": [
       "PageXMLScan(\n",
       "\tid=0001_NL-HaNA_0.00.00_1206_0338_contrast.png, \n",
       "\ttype=['structure_doc', 'physical_structure_doc', 'text_region', 'pagexml_doc', 'scan'], \n",
       "\tstats={\"lines\": 58, \"words\": 314, \"text_regions\": 0, \"table_regions\": 1, \"columns\": 0, \"extra\": 0, \"pages\": 0}\n",
       ")"
      ]
     },
     "execution_count": 2,
     "metadata": {},
     "output_type": "execute_result"
    }
   ],
   "source": [
    "from pagexml.parser import parse_pagexml_file\n",
    "\n",
    "page_file = '../data/PageXML-with-Tables-TypoScript/4421891/1206/page/0001_NL-HaNA_0.00.00_1206_0338_contrast.xml'\n",
    "scan = parse_pagexml_file(page_file)\n",
    "scan"
   ]
  },
  {
   "cell_type": "markdown",
   "id": "77dfd65a-41c8-4289-a7e7-8d97bca82523",
   "metadata": {},
   "source": [
    "Note that in the `stats` dictionary, the number of `table_regions` is shown."
   ]
  },
  {
   "cell_type": "markdown",
   "id": "e98c141b-15a5-46cd-b238-3dc7e97d282b",
   "metadata": {},
   "source": [
    "## Access and interacting with tables"
   ]
  },
  {
   "cell_type": "markdown",
   "id": "d52d94cf-6a84-4516-a7ce-6f9b28b7f996",
   "metadata": {},
   "source": [
    "The `.table_regions` property gives access to tables that are direct children of the `scan` object:"
   ]
  },
  {
   "cell_type": "code",
   "execution_count": 3,
   "id": "f318f888-e7b4-4d54-a83e-c893b2759c56",
   "metadata": {},
   "outputs": [
    {
     "data": {
      "text/plain": [
       "PageXMLTableRegion(\n",
       "\tid=t1, \n",
       "\ttype=['structure_doc', 'physical_structure_doc', 'table_region', 'pagexml_doc'], \n",
       "\tstats={\"rows\": 23, \"cells\": 46, \"lines\": 58, \"words\": 314}\n",
       ")"
      ]
     },
     "execution_count": 3,
     "metadata": {},
     "output_type": "execute_result"
    }
   ],
   "source": [
    "table = scan.table_regions[0]\n",
    "table"
   ]
  },
  {
   "cell_type": "markdown",
   "id": "f6840830-d48a-4c65-9e3f-962227371831",
   "metadata": {},
   "source": [
    "The `PageXMLTableRegion` has the same `stats` property as other `PageXML` objects. You can get the shape of the table via the `.shape` property:"
   ]
  },
  {
   "cell_type": "code",
   "execution_count": 4,
   "id": "31acd33c-55b1-439e-a941-65c6ebc77a31",
   "metadata": {},
   "outputs": [
    {
     "data": {
      "text/plain": [
       "(23, 2)"
      ]
     },
     "execution_count": 4,
     "metadata": {},
     "output_type": "execute_result"
    }
   ],
   "source": [
    "table.shape"
   ]
  },
  {
   "cell_type": "markdown",
   "id": "73e5f0ee-05c1-45ec-9226-573e1497d6d6",
   "metadata": {},
   "source": [
    "You can access any row by its index in the rows property:"
   ]
  },
  {
   "cell_type": "code",
   "execution_count": 5,
   "id": "b3238f75-de23-41de-8943-0a5b059a8d96",
   "metadata": {},
   "outputs": [
    {
     "data": {
      "text/plain": [
       "PageXMLTableRow(\n",
       "\tid=0, \n",
       "\ttype=table_row, \n",
       "\tstats={\"cells\": 2, \"lines\": 1, \"words\": 6}\n",
       ")"
      ]
     },
     "execution_count": 5,
     "metadata": {},
     "output_type": "execute_result"
    }
   ],
   "source": [
    "table.rows[0]"
   ]
  },
  {
   "cell_type": "markdown",
   "id": "7166fd51-5ffb-403a-a76a-5c9fb3302f2b",
   "metadata": {},
   "source": [
    "However, You can also access its by index directly on the table object:"
   ]
  },
  {
   "cell_type": "code",
   "execution_count": 6,
   "id": "e41cfa33-49d3-46e6-b9b7-3fa793e5296a",
   "metadata": {},
   "outputs": [
    {
     "data": {
      "text/plain": [
       "PageXMLTableRow(\n",
       "\tid=0, \n",
       "\ttype=table_row, \n",
       "\tstats={\"cells\": 2, \"lines\": 1, \"words\": 6}\n",
       ")"
      ]
     },
     "execution_count": 6,
     "metadata": {},
     "output_type": "execute_result"
    }
   ],
   "source": [
    "table[0]"
   ]
  },
  {
   "cell_type": "markdown",
   "id": "babc4159-fdcc-4528-a34c-47acf5589f03",
   "metadata": {},
   "source": [
    "The same applies for access a cell in a row:"
   ]
  },
  {
   "cell_type": "code",
   "execution_count": 7,
   "id": "91939d4d-6f58-47f3-bbcd-d8cf9ebb8ab0",
   "metadata": {},
   "outputs": [
    {
     "data": {
      "text/plain": [
       "PageXMLTableCell(\n",
       "\tid=t1c4, \n",
       "\ttype=table_cell, \n",
       "\trow=1, col=1\n",
       "\tstats={\"lines\": 2, \"words\": 19}\n",
       ")"
      ]
     },
     "execution_count": 7,
     "metadata": {},
     "output_type": "execute_result"
    }
   ],
   "source": [
    "cell = table.rows[1].cells[1]  # via properties\n",
    "cell = table[1][1]             # shorthand\n",
    "cell"
   ]
  },
  {
   "cell_type": "markdown",
   "id": "80eb246c-35ec-49cd-a08f-850d1a4aeecf",
   "metadata": {},
   "source": [
    "You can iterate over rows and cell using the same shorthand. Each cell has a `row` and `col` propery that corresponds to the cell index in the row and the row index in the table:"
   ]
  },
  {
   "cell_type": "code",
   "execution_count": 13,
   "id": "11172397-4950-451f-b36e-0b55e28b9b0b",
   "metadata": {},
   "outputs": [
    {
     "name": "stdout",
     "output_type": "stream",
     "text": [
      "0 0 t1c1\n",
      "0 1 t1c2\n",
      "1 0 t1c3\n",
      "1 1 t1c4\n",
      "2 0 t1c5\n",
      "2 1 t1c6\n",
      "3 0 t1c7\n",
      "3 1 t1c8\n",
      "4 0 t1c9\n",
      "4 1 t1c10\n",
      "5 0 t1c11\n",
      "5 1 t1c12\n",
      "6 0 t1c13\n",
      "6 1 t1c14\n",
      "7 0 t1c15\n",
      "7 1 t1c16\n",
      "8 0 t1c17\n",
      "8 1 t1c18\n",
      "9 0 t1c19\n",
      "9 1 t1c20\n",
      "10 0 t1c21\n",
      "10 1 t1c22\n",
      "11 0 t1c23\n",
      "11 1 t1c24\n",
      "12 0 t1c25\n",
      "12 1 t1c26\n",
      "13 0 t1c27\n",
      "13 1 t1c28\n",
      "14 0 t1c29\n",
      "14 1 t1c30\n",
      "15 0 t1c31\n",
      "15 1 t1c32\n",
      "16 0 t1c33\n",
      "16 1 t1c34\n",
      "17 0 t1c35\n",
      "17 1 t1c36\n",
      "18 0 t1c37\n",
      "18 1 t1c38\n",
      "19 0 t1c39\n",
      "19 1 t1c40\n",
      "20 0 t1c41\n",
      "20 1 t1c42\n",
      "21 0 t1c43\n",
      "21 1 t1c44\n",
      "22 0 t1c45\n",
      "22 1 t1c46\n"
     ]
    }
   ],
   "source": [
    "for row in table:\n",
    "    for cell in row:\n",
    "        print(cell.row, cell.col, cell.id)"
   ]
  },
  {
   "cell_type": "markdown",
   "id": "2afcf923-1d36-4ad8-8b9d-315f5ec3df8f",
   "metadata": {},
   "source": [
    "### Cell Values\n",
    "\n",
    "You can access the cell content in two ways, via its `value` propoerty or via the `PageXML` elements contained by the `TableCell` object.\n",
    "\n",
    "**Note**: In the current implementation, it is assumed that cells contain `TextLine`s."
   ]
  },
  {
   "cell_type": "code",
   "execution_count": 14,
   "id": "640e72a8-bdf4-4037-88e3-427aaa0e566f",
   "metadata": {},
   "outputs": [
    {
     "data": {
      "text/plain": [
       "[PageXMLTextLine(\n",
       " \tid=t1c4_tl_1, \n",
       " \ttype=['structure_doc', 'physical_structure_doc', 'line', 'pagexml_doc'], \n",
       " \ttext=\"Een brief van den gouverneur Rijk Tulbagh en den raad aan\" \n",
       " \tconf=None\n",
       " ),\n",
       " PageXMLTextLine(\n",
       " \tid=t1c4_tl_2, \n",
       " \ttype=['structure_doc', 'physical_structure_doc', 'line', 'pagexml_doc'], \n",
       " \ttext=\"de Kamer Amsterdam in dato 26 September 1763.\" \n",
       " \tconf=None\n",
       " )]"
      ]
     },
     "execution_count": 14,
     "metadata": {},
     "output_type": "execute_result"
    }
   ],
   "source": [
    "cell = table[1][1]\n",
    "[line for line in cell.lines]"
   ]
  },
  {
   "cell_type": "markdown",
   "id": "2e978a1f-eace-44d7-aa48-3d4b335ba4fa",
   "metadata": {},
   "source": [
    "<br/>\n",
    "<br/>\n",
    "For easy acces, the text of the lines are concatenated in the `value` property:"
   ]
  },
  {
   "cell_type": "code",
   "execution_count": 15,
   "id": "36bd00d8-69d5-4f00-8626-0375c6b5eb20",
   "metadata": {
    "scrolled": true
   },
   "outputs": [
    {
     "data": {
      "text/plain": [
       "'Een brief van den gouverneur Rijk Tulbagh en den raad aan de Kamer Amsterdam in dato 26 September 1763.'"
      ]
     },
     "execution_count": 15,
     "metadata": {},
     "output_type": "execute_result"
    }
   ],
   "source": [
    "cell.value"
   ]
  },
  {
   "cell_type": "markdown",
   "id": "0efa2479-67b7-41f2-894d-04e2925f0aad",
   "metadata": {},
   "source": [
    "<br/>\n",
    "<br/>\n",
    "Similarly, the `values` property of a row returns a list of the values of all its cells:"
   ]
  },
  {
   "cell_type": "code",
   "execution_count": 16,
   "id": "716111d4-7223-47fe-ac9c-567ed843819d",
   "metadata": {},
   "outputs": [
    {
     "data": {
      "text/plain": [
       "['1-2',\n",
       " 'Een brief van den gouverneur Rijk Tulbagh en den raad aan de Kamer Amsterdam in dato 26 September 1763.']"
      ]
     },
     "execution_count": 16,
     "metadata": {},
     "output_type": "execute_result"
    }
   ],
   "source": [
    "row = table[1]\n",
    "row.values"
   ]
  },
  {
   "cell_type": "markdown",
   "id": "2b897fc0-04cc-4543-8b58-4bac16044b64",
   "metadata": {},
   "source": [
    "<br/>\n",
    "<br/>\n",
    "And in the same vain, the `values` property of the table returns all values of the rows in a list of lists:"
   ]
  },
  {
   "cell_type": "code",
   "execution_count": 17,
   "id": "32ba358d-4195-45d7-a82e-409a7d32ff4e",
   "metadata": {},
   "outputs": [
    {
     "data": {
      "text/plain": [
       "[['', \"Per't engelsch snauw scheepje the Mercury.\"],\n",
       " ['1-2',\n",
       "  'Een brief van den gouverneur Rijk Tulbagh en den raad aan de Kamer Amsterdam in dato 26 September 1763.'],\n",
       " ['3-8',\n",
       "  \"Een dito aan de vergadering van 17en in dato als even. Per't fransche oorlogschip le Comte d'Argenson.\"],\n",
       " ['9-12', 'Een dito aan de vergadering van 17en in dato 22 October 1763.'],\n",
       " ['', \"Per de fransche scheepen le Comte d'Artois, le Conde en le Massiac.\"],\n",
       " ['13-15', 'Een dito aan de vergadering van 17en in dato 12 November 1763.'],\n",
       " ['16-17',\n",
       "  'Een dito aan de Kamer Amsterdam in dato als boven. Perütoengelsch schip The Royal George.'],\n",
       " ['18-23', 'Een dito aan de vergadering van 17en in dato 2 January 1764.'],\n",
       " ['', \"Per't vroegschip Baarsande.\"],\n",
       " ['24-26', 'Register der papieren.'],\n",
       " ['27-38',\n",
       "  'Origineele missive van den gouverneur Rijk Tulbagh en der raad aan de vergadering van 17en in dato 7 January 1764.'],\n",
       " ['39-41',\n",
       "  'Origineele missive van den gouverneur en raad aan de Ka¬ mer Amsterdam in dato 7 January 1764.'],\n",
       " ['42-49',\n",
       "  'Copia missive van generaal en raden aan den gouverneur Rijk Tulbagh beneevens den raad in dato 18 October 1763.'],\n",
       " ['', 'Dito dito in dato 1 November 1763.'],\n",
       " ['',\n",
       "  'Rapport van gecommitteerde zeelieden nopens de examina¬ tie der journalen van het schip Baarsande.'],\n",
       " ['',\n",
       "  'Dito van gecommitteerdens uyt den raad van justitie die de afgescheepte wijnen geproeft en welbevonden hebben.'],\n",
       " ['-',\n",
       "  'Origineele missive van den gouverneur Rijk Tulbagh bene¬ vens den raad aan de vergadering van 17en in dato 10 January 1764.'],\n",
       " ['56-57', 'Dito aan de Kamer Amsterdam in dato als boven.'],\n",
       " ['', \"Per't engels snauw scheepje the Mercury.\"],\n",
       " ['58-60',\n",
       "  'Origineele missive van den gouverneur R. Tulbagh bene¬ vens den raad aan de vergadering van 17en in dato 16 January 1764.'],\n",
       " ['', 'Per de engelsche scheepen the Plassey en the Harl of Asburnham.'],\n",
       " ['61-62',\n",
       "  'Dito dito aan de vergadering van 17en in dato 11 Febru¬ ary 1764. Per de schepen de Geertruyda, Burg, Bleyswijk, Blij- dorp en Oosthuysen.'],\n",
       " ['63-65', 'Register der papieren.']]"
      ]
     },
     "execution_count": 17,
     "metadata": {},
     "output_type": "execute_result"
    }
   ],
   "source": [
    "table.values"
   ]
  },
  {
   "cell_type": "markdown",
   "id": "ef7ede7c-3cee-4a28-a177-398693411443",
   "metadata": {},
   "source": [
    "<br/>\n",
    "<br/>\n",
    "This can then easily be load in e.g. `pandas` for richer interaction:"
   ]
  },
  {
   "cell_type": "code",
   "execution_count": 18,
   "id": "2a32e2c2-ce2f-4bc3-a08b-ee4687465409",
   "metadata": {},
   "outputs": [
    {
     "data": {
      "text/html": [
       "<div>\n",
       "<style scoped>\n",
       "    .dataframe tbody tr th:only-of-type {\n",
       "        vertical-align: middle;\n",
       "    }\n",
       "\n",
       "    .dataframe tbody tr th {\n",
       "        vertical-align: top;\n",
       "    }\n",
       "\n",
       "    .dataframe thead th {\n",
       "        text-align: right;\n",
       "    }\n",
       "</style>\n",
       "<table border=\"1\" class=\"dataframe\">\n",
       "  <thead>\n",
       "    <tr style=\"text-align: right;\">\n",
       "      <th></th>\n",
       "      <th>0</th>\n",
       "      <th>1</th>\n",
       "    </tr>\n",
       "  </thead>\n",
       "  <tbody>\n",
       "    <tr>\n",
       "      <th>0</th>\n",
       "      <td></td>\n",
       "      <td>Per't engelsch snauw scheepje the Mercury.</td>\n",
       "    </tr>\n",
       "    <tr>\n",
       "      <th>1</th>\n",
       "      <td>1-2</td>\n",
       "      <td>Een brief van den gouverneur Rijk Tulbagh en d...</td>\n",
       "    </tr>\n",
       "    <tr>\n",
       "      <th>2</th>\n",
       "      <td>3-8</td>\n",
       "      <td>Een dito aan de vergadering van 17en in dato a...</td>\n",
       "    </tr>\n",
       "    <tr>\n",
       "      <th>3</th>\n",
       "      <td>9-12</td>\n",
       "      <td>Een dito aan de vergadering van 17en in dato 2...</td>\n",
       "    </tr>\n",
       "    <tr>\n",
       "      <th>4</th>\n",
       "      <td></td>\n",
       "      <td>Per de fransche scheepen le Comte d'Artois, le...</td>\n",
       "    </tr>\n",
       "    <tr>\n",
       "      <th>5</th>\n",
       "      <td>13-15</td>\n",
       "      <td>Een dito aan de vergadering van 17en in dato 1...</td>\n",
       "    </tr>\n",
       "    <tr>\n",
       "      <th>6</th>\n",
       "      <td>16-17</td>\n",
       "      <td>Een dito aan de Kamer Amsterdam in dato als bo...</td>\n",
       "    </tr>\n",
       "    <tr>\n",
       "      <th>7</th>\n",
       "      <td>18-23</td>\n",
       "      <td>Een dito aan de vergadering van 17en in dato 2...</td>\n",
       "    </tr>\n",
       "    <tr>\n",
       "      <th>8</th>\n",
       "      <td></td>\n",
       "      <td>Per't vroegschip Baarsande.</td>\n",
       "    </tr>\n",
       "    <tr>\n",
       "      <th>9</th>\n",
       "      <td>24-26</td>\n",
       "      <td>Register der papieren.</td>\n",
       "    </tr>\n",
       "    <tr>\n",
       "      <th>10</th>\n",
       "      <td>27-38</td>\n",
       "      <td>Origineele missive van den gouverneur Rijk Tul...</td>\n",
       "    </tr>\n",
       "    <tr>\n",
       "      <th>11</th>\n",
       "      <td>39-41</td>\n",
       "      <td>Origineele missive van den gouverneur en raad ...</td>\n",
       "    </tr>\n",
       "    <tr>\n",
       "      <th>12</th>\n",
       "      <td>42-49</td>\n",
       "      <td>Copia missive van generaal en raden aan den go...</td>\n",
       "    </tr>\n",
       "    <tr>\n",
       "      <th>13</th>\n",
       "      <td></td>\n",
       "      <td>Dito dito in dato 1 November 1763.</td>\n",
       "    </tr>\n",
       "    <tr>\n",
       "      <th>14</th>\n",
       "      <td></td>\n",
       "      <td>Rapport van gecommitteerde zeelieden nopens de...</td>\n",
       "    </tr>\n",
       "    <tr>\n",
       "      <th>15</th>\n",
       "      <td></td>\n",
       "      <td>Dito van gecommitteerdens uyt den raad van jus...</td>\n",
       "    </tr>\n",
       "    <tr>\n",
       "      <th>16</th>\n",
       "      <td>-</td>\n",
       "      <td>Origineele missive van den gouverneur Rijk Tul...</td>\n",
       "    </tr>\n",
       "    <tr>\n",
       "      <th>17</th>\n",
       "      <td>56-57</td>\n",
       "      <td>Dito aan de Kamer Amsterdam in dato als boven.</td>\n",
       "    </tr>\n",
       "    <tr>\n",
       "      <th>18</th>\n",
       "      <td></td>\n",
       "      <td>Per't engels snauw scheepje the Mercury.</td>\n",
       "    </tr>\n",
       "    <tr>\n",
       "      <th>19</th>\n",
       "      <td>58-60</td>\n",
       "      <td>Origineele missive van den gouverneur R. Tulba...</td>\n",
       "    </tr>\n",
       "    <tr>\n",
       "      <th>20</th>\n",
       "      <td></td>\n",
       "      <td>Per de engelsche scheepen the Plassey en the H...</td>\n",
       "    </tr>\n",
       "    <tr>\n",
       "      <th>21</th>\n",
       "      <td>61-62</td>\n",
       "      <td>Dito dito aan de vergadering van 17en in dato ...</td>\n",
       "    </tr>\n",
       "    <tr>\n",
       "      <th>22</th>\n",
       "      <td>63-65</td>\n",
       "      <td>Register der papieren.</td>\n",
       "    </tr>\n",
       "  </tbody>\n",
       "</table>\n",
       "</div>"
      ],
      "text/plain": [
       "        0                                                  1\n",
       "0                 Per't engelsch snauw scheepje the Mercury.\n",
       "1     1-2  Een brief van den gouverneur Rijk Tulbagh en d...\n",
       "2     3-8  Een dito aan de vergadering van 17en in dato a...\n",
       "3    9-12  Een dito aan de vergadering van 17en in dato 2...\n",
       "4          Per de fransche scheepen le Comte d'Artois, le...\n",
       "5   13-15  Een dito aan de vergadering van 17en in dato 1...\n",
       "6   16-17  Een dito aan de Kamer Amsterdam in dato als bo...\n",
       "7   18-23  Een dito aan de vergadering van 17en in dato 2...\n",
       "8                                Per't vroegschip Baarsande.\n",
       "9   24-26                             Register der papieren.\n",
       "10  27-38  Origineele missive van den gouverneur Rijk Tul...\n",
       "11  39-41  Origineele missive van den gouverneur en raad ...\n",
       "12  42-49  Copia missive van generaal en raden aan den go...\n",
       "13                        Dito dito in dato 1 November 1763.\n",
       "14         Rapport van gecommitteerde zeelieden nopens de...\n",
       "15         Dito van gecommitteerdens uyt den raad van jus...\n",
       "16      -  Origineele missive van den gouverneur Rijk Tul...\n",
       "17  56-57     Dito aan de Kamer Amsterdam in dato als boven.\n",
       "18                  Per't engels snauw scheepje the Mercury.\n",
       "19  58-60  Origineele missive van den gouverneur R. Tulba...\n",
       "20         Per de engelsche scheepen the Plassey en the H...\n",
       "21  61-62  Dito dito aan de vergadering van 17en in dato ...\n",
       "22  63-65                             Register der papieren."
      ]
     },
     "execution_count": 18,
     "metadata": {},
     "output_type": "execute_result"
    }
   ],
   "source": [
    "import pandas as pd\n",
    "\n",
    "pd.DataFrame(table.values)"
   ]
  },
  {
   "cell_type": "markdown",
   "id": "a91faa14-0fa5-40a2-a95d-31bffe1171e6",
   "metadata": {},
   "source": [
    "## Tables with headers and more complex tables"
   ]
  },
  {
   "cell_type": "code",
   "execution_count": 19,
   "id": "f7d0ffb6-cf21-4357-ac2c-29f7e814da5a",
   "metadata": {
    "scrolled": true
   },
   "outputs": [
    {
     "data": {
      "text/plain": [
       "(18, 11)"
      ]
     },
     "execution_count": 19,
     "metadata": {},
     "output_type": "execute_result"
    }
   ],
   "source": [
    "page_file = '../data/PageXML-VOC-tabel/1150820/Losse_tabel/page/0001_NL-HaNA_1.04.02_2466_1795.xml'\n",
    "\n",
    "scan = parse_pagexml_file(page_file)\n",
    "table = scan.table_regions[0]\n",
    "table.shape"
   ]
  },
  {
   "cell_type": "markdown",
   "id": "768c43fa-b545-4cca-84f2-9a8a91805366",
   "metadata": {},
   "source": [
    "In this case, the table has 11 columns but the first row only has two cells:"
   ]
  },
  {
   "cell_type": "code",
   "execution_count": 20,
   "id": "3d03e350-1a41-4ffd-8fa5-53499e985beb",
   "metadata": {},
   "outputs": [
    {
     "data": {
      "text/plain": [
       "PageXMLTableRow(\n",
       "\tid=0, \n",
       "\ttype=table_row, \n",
       "\tstats={\"cells\": 2, \"lines\": 2, \"words\": 5}\n",
       ")"
      ]
     },
     "execution_count": 20,
     "metadata": {},
     "output_type": "execute_result"
    }
   ],
   "source": [
    "table[0]"
   ]
  },
  {
   "cell_type": "markdown",
   "id": "dd2cfba2-5ce7-42b2-a38e-c52179a0d12f",
   "metadata": {},
   "source": [
    "To understand what is going on here, the number of columns is based on the row with the maximum number of cells. Rows with fewer cells specify per cell which column it belongs to:"
   ]
  },
  {
   "cell_type": "code",
   "execution_count": 21,
   "id": "3793621c-88e9-4138-985c-8cc70c4f1fc5",
   "metadata": {},
   "outputs": [
    {
     "name": "stdout",
     "output_type": "stream",
     "text": [
      "TableCell_1649063529743_4183 0 0\n",
      "None 0 1\n",
      "None 0 2\n",
      "None 0 3\n",
      "None 0 4\n",
      "TableCell_1649063529743_4181 0 5\n",
      "None 0 6\n",
      "None 0 7\n",
      "None 0 8\n",
      "None 0 9\n",
      "None 0 10\n"
     ]
    }
   ],
   "source": [
    "for cell in table[0]:\n",
    "    print(cell.id, cell.row, cell.col)"
   ]
  },
  {
   "cell_type": "markdown",
   "id": "2975dadc-c0bf-43e4-a108-75764ec94807",
   "metadata": {},
   "source": [
    "The first cell is part of the zeroth column, second cell is part of the fifth column. In the other columns, there are no cells. When you iterate over the cells of a row, it will generate empty cells on the fly."
   ]
  },
  {
   "cell_type": "code",
   "execution_count": 22,
   "id": "fd4b15d4-69c9-42d9-b373-a084a6a9a48f",
   "metadata": {},
   "outputs": [
    {
     "name": "stdout",
     "output_type": "stream",
     "text": [
      "TableCell_1649061546469_2318 1 0\n",
      "TableCell_1649061549881_2426 1 1\n",
      "TableCell_1649061552522_2534 1 2\n",
      "TableCell_1649061555573_2642 1 3\n",
      "TableCell_1649063529975_4189 1 4\n",
      "TableCell_1649063529975_4187 1 5\n",
      "TableCell_1649061562262_2858 1 6\n",
      "TableCell_1649061564976_2966 1 7\n",
      "TableCell_1649061567469_3074 1 8\n",
      "TableCell_1649061580962_3182 1 9\n",
      "TableCell_1649061580962_3180 1 10\n"
     ]
    }
   ],
   "source": [
    "for cell in table[1].cells:\n",
    "    print(cell.id, cell.row, cell.col)"
   ]
  },
  {
   "cell_type": "markdown",
   "id": "20a066df-d89d-485f-8cea-cc3e15ad9a0c",
   "metadata": {},
   "source": [
    "The second row (at index 1) has a cell in each column.\n",
    "\n",
    "If you iterate over the rows and print the `values` of each row, you'll see that for non-existing cells, the value `''` is used:"
   ]
  },
  {
   "cell_type": "code",
   "execution_count": 23,
   "id": "113de852-4d3a-490d-afcb-61defb718ec7",
   "metadata": {},
   "outputs": [
    {
     "name": "stdout",
     "output_type": "stream",
     "text": [
      "['Eerste halve maand', '', '', '', '', 'Laaste halvemaand', '', '', '', '', '']\n",
      "['Ingebl:', 'Ingek:', 'uijtgeg:', 'overled:', 'blijven', '', 'Ingek:', 'uijtgeg:', 'overl:', 'blijven', '']\n",
      "['14', '1', '1', '1', '13', '', '1', '2', '1', '11.', 'Hooftwagt']\n",
      "['2', '„', '„', '„', '2', '', '1', '„', '„', '3', 'Waterpoort']\n",
      "['1', '„', '„', '„', '1', '', '1', '2', ',', '„', 'd’E E: agtb: wagt']\n",
      "['2', '„', '„', '„', '2', '', '„', '„', '1', '1', 'P:t Bonij']\n",
      "['1', '1', ',,', '„', '2', '', '1', '„', '2', '1', '„ Bouton']\n",
      "['1', '1', '„', '„', '2', '', ',,', '„', '„', '2', '„ mandersaha']\n",
      "['1', '„', '„', '„', '1', '', '„', '„', '„', '1', '„ amboina']\n",
      "['3', '„', '„', '„', '3', '', '„', '„', '„', '3', '„ . batsiam']\n",
      "['1', '„', '1', '„', '„', '', '„', '„', '„', '„', 'T Ravelijn']\n",
      "['2', '„', '„', '„', '2', '', '„', '„', '1', '1.', 'Redout']\n",
      "['1', '„', '„', '„', '1', '', '„', '„', '„', '1', 'de Pagger Voorsorg']\n",
      "['7', '„', '1', '„', '6', '', '„', '1', '„', '5', '„ ambagts gesellen']\n",
      "['14', '1', '3', '1', '11.', '', '1', '1', '„', '11.', '„ Sevarende']\n",
      "['—', '„', '„', '„', '„', '', '14', '„', '1', '13', 'T schip Valkenisse']\n",
      "['tesamen 50', '4', '6', '2', '46', '', '19', '6', '6', '53.', '']\n",
      "['', '', '', '', '', '', '', '', '', '', '']\n"
     ]
    }
   ],
   "source": [
    "for row in table:\n",
    "    print(row.values)"
   ]
  },
  {
   "cell_type": "markdown",
   "id": "be512d0c-83e7-457e-a61e-e60d0def927a",
   "metadata": {},
   "source": [
    "<br/>\n",
    "<br/>\n",
    "Again, you can load this in `pandas` to interact with the table:"
   ]
  },
  {
   "cell_type": "code",
   "execution_count": 24,
   "id": "28fae629-3d88-4612-963c-46434cf68482",
   "metadata": {},
   "outputs": [
    {
     "data": {
      "text/html": [
       "<div>\n",
       "<style scoped>\n",
       "    .dataframe tbody tr th:only-of-type {\n",
       "        vertical-align: middle;\n",
       "    }\n",
       "\n",
       "    .dataframe tbody tr th {\n",
       "        vertical-align: top;\n",
       "    }\n",
       "\n",
       "    .dataframe thead th {\n",
       "        text-align: right;\n",
       "    }\n",
       "</style>\n",
       "<table border=\"1\" class=\"dataframe\">\n",
       "  <thead>\n",
       "    <tr style=\"text-align: right;\">\n",
       "      <th></th>\n",
       "      <th>0</th>\n",
       "      <th>1</th>\n",
       "      <th>2</th>\n",
       "      <th>3</th>\n",
       "      <th>4</th>\n",
       "      <th>5</th>\n",
       "      <th>6</th>\n",
       "      <th>7</th>\n",
       "      <th>8</th>\n",
       "      <th>9</th>\n",
       "      <th>10</th>\n",
       "    </tr>\n",
       "  </thead>\n",
       "  <tbody>\n",
       "    <tr>\n",
       "      <th>0</th>\n",
       "      <td>Eerste halve maand</td>\n",
       "      <td></td>\n",
       "      <td></td>\n",
       "      <td></td>\n",
       "      <td></td>\n",
       "      <td>Laaste halvemaand</td>\n",
       "      <td></td>\n",
       "      <td></td>\n",
       "      <td></td>\n",
       "      <td></td>\n",
       "      <td></td>\n",
       "    </tr>\n",
       "    <tr>\n",
       "      <th>1</th>\n",
       "      <td>Ingebl:</td>\n",
       "      <td>Ingek:</td>\n",
       "      <td>uijtgeg:</td>\n",
       "      <td>overled:</td>\n",
       "      <td>blijven</td>\n",
       "      <td></td>\n",
       "      <td>Ingek:</td>\n",
       "      <td>uijtgeg:</td>\n",
       "      <td>overl:</td>\n",
       "      <td>blijven</td>\n",
       "      <td></td>\n",
       "    </tr>\n",
       "    <tr>\n",
       "      <th>2</th>\n",
       "      <td>14</td>\n",
       "      <td>1</td>\n",
       "      <td>1</td>\n",
       "      <td>1</td>\n",
       "      <td>13</td>\n",
       "      <td></td>\n",
       "      <td>1</td>\n",
       "      <td>2</td>\n",
       "      <td>1</td>\n",
       "      <td>11.</td>\n",
       "      <td>Hooftwagt</td>\n",
       "    </tr>\n",
       "    <tr>\n",
       "      <th>3</th>\n",
       "      <td>2</td>\n",
       "      <td>„</td>\n",
       "      <td>„</td>\n",
       "      <td>„</td>\n",
       "      <td>2</td>\n",
       "      <td></td>\n",
       "      <td>1</td>\n",
       "      <td>„</td>\n",
       "      <td>„</td>\n",
       "      <td>3</td>\n",
       "      <td>Waterpoort</td>\n",
       "    </tr>\n",
       "    <tr>\n",
       "      <th>4</th>\n",
       "      <td>1</td>\n",
       "      <td>„</td>\n",
       "      <td>„</td>\n",
       "      <td>„</td>\n",
       "      <td>1</td>\n",
       "      <td></td>\n",
       "      <td>1</td>\n",
       "      <td>2</td>\n",
       "      <td>,</td>\n",
       "      <td>„</td>\n",
       "      <td>d’E E: agtb: wagt</td>\n",
       "    </tr>\n",
       "    <tr>\n",
       "      <th>5</th>\n",
       "      <td>2</td>\n",
       "      <td>„</td>\n",
       "      <td>„</td>\n",
       "      <td>„</td>\n",
       "      <td>2</td>\n",
       "      <td></td>\n",
       "      <td>„</td>\n",
       "      <td>„</td>\n",
       "      <td>1</td>\n",
       "      <td>1</td>\n",
       "      <td>P:t Bonij</td>\n",
       "    </tr>\n",
       "    <tr>\n",
       "      <th>6</th>\n",
       "      <td>1</td>\n",
       "      <td>1</td>\n",
       "      <td>,,</td>\n",
       "      <td>„</td>\n",
       "      <td>2</td>\n",
       "      <td></td>\n",
       "      <td>1</td>\n",
       "      <td>„</td>\n",
       "      <td>2</td>\n",
       "      <td>1</td>\n",
       "      <td>„ Bouton</td>\n",
       "    </tr>\n",
       "    <tr>\n",
       "      <th>7</th>\n",
       "      <td>1</td>\n",
       "      <td>1</td>\n",
       "      <td>„</td>\n",
       "      <td>„</td>\n",
       "      <td>2</td>\n",
       "      <td></td>\n",
       "      <td>,,</td>\n",
       "      <td>„</td>\n",
       "      <td>„</td>\n",
       "      <td>2</td>\n",
       "      <td>„ mandersaha</td>\n",
       "    </tr>\n",
       "    <tr>\n",
       "      <th>8</th>\n",
       "      <td>1</td>\n",
       "      <td>„</td>\n",
       "      <td>„</td>\n",
       "      <td>„</td>\n",
       "      <td>1</td>\n",
       "      <td></td>\n",
       "      <td>„</td>\n",
       "      <td>„</td>\n",
       "      <td>„</td>\n",
       "      <td>1</td>\n",
       "      <td>„ amboina</td>\n",
       "    </tr>\n",
       "    <tr>\n",
       "      <th>9</th>\n",
       "      <td>3</td>\n",
       "      <td>„</td>\n",
       "      <td>„</td>\n",
       "      <td>„</td>\n",
       "      <td>3</td>\n",
       "      <td></td>\n",
       "      <td>„</td>\n",
       "      <td>„</td>\n",
       "      <td>„</td>\n",
       "      <td>3</td>\n",
       "      <td>„ . batsiam</td>\n",
       "    </tr>\n",
       "    <tr>\n",
       "      <th>10</th>\n",
       "      <td>1</td>\n",
       "      <td>„</td>\n",
       "      <td>1</td>\n",
       "      <td>„</td>\n",
       "      <td>„</td>\n",
       "      <td></td>\n",
       "      <td>„</td>\n",
       "      <td>„</td>\n",
       "      <td>„</td>\n",
       "      <td>„</td>\n",
       "      <td>T Ravelijn</td>\n",
       "    </tr>\n",
       "    <tr>\n",
       "      <th>11</th>\n",
       "      <td>2</td>\n",
       "      <td>„</td>\n",
       "      <td>„</td>\n",
       "      <td>„</td>\n",
       "      <td>2</td>\n",
       "      <td></td>\n",
       "      <td>„</td>\n",
       "      <td>„</td>\n",
       "      <td>1</td>\n",
       "      <td>1.</td>\n",
       "      <td>Redout</td>\n",
       "    </tr>\n",
       "    <tr>\n",
       "      <th>12</th>\n",
       "      <td>1</td>\n",
       "      <td>„</td>\n",
       "      <td>„</td>\n",
       "      <td>„</td>\n",
       "      <td>1</td>\n",
       "      <td></td>\n",
       "      <td>„</td>\n",
       "      <td>„</td>\n",
       "      <td>„</td>\n",
       "      <td>1</td>\n",
       "      <td>de Pagger Voorsorg</td>\n",
       "    </tr>\n",
       "    <tr>\n",
       "      <th>13</th>\n",
       "      <td>7</td>\n",
       "      <td>„</td>\n",
       "      <td>1</td>\n",
       "      <td>„</td>\n",
       "      <td>6</td>\n",
       "      <td></td>\n",
       "      <td>„</td>\n",
       "      <td>1</td>\n",
       "      <td>„</td>\n",
       "      <td>5</td>\n",
       "      <td>„ ambagts gesellen</td>\n",
       "    </tr>\n",
       "    <tr>\n",
       "      <th>14</th>\n",
       "      <td>14</td>\n",
       "      <td>1</td>\n",
       "      <td>3</td>\n",
       "      <td>1</td>\n",
       "      <td>11.</td>\n",
       "      <td></td>\n",
       "      <td>1</td>\n",
       "      <td>1</td>\n",
       "      <td>„</td>\n",
       "      <td>11.</td>\n",
       "      <td>„ Sevarende</td>\n",
       "    </tr>\n",
       "    <tr>\n",
       "      <th>15</th>\n",
       "      <td>—</td>\n",
       "      <td>„</td>\n",
       "      <td>„</td>\n",
       "      <td>„</td>\n",
       "      <td>„</td>\n",
       "      <td></td>\n",
       "      <td>14</td>\n",
       "      <td>„</td>\n",
       "      <td>1</td>\n",
       "      <td>13</td>\n",
       "      <td>T schip Valkenisse</td>\n",
       "    </tr>\n",
       "    <tr>\n",
       "      <th>16</th>\n",
       "      <td>tesamen 50</td>\n",
       "      <td>4</td>\n",
       "      <td>6</td>\n",
       "      <td>2</td>\n",
       "      <td>46</td>\n",
       "      <td></td>\n",
       "      <td>19</td>\n",
       "      <td>6</td>\n",
       "      <td>6</td>\n",
       "      <td>53.</td>\n",
       "      <td></td>\n",
       "    </tr>\n",
       "    <tr>\n",
       "      <th>17</th>\n",
       "      <td></td>\n",
       "      <td></td>\n",
       "      <td></td>\n",
       "      <td></td>\n",
       "      <td></td>\n",
       "      <td></td>\n",
       "      <td></td>\n",
       "      <td></td>\n",
       "      <td></td>\n",
       "      <td></td>\n",
       "      <td></td>\n",
       "    </tr>\n",
       "  </tbody>\n",
       "</table>\n",
       "</div>"
      ],
      "text/plain": [
       "                    0       1         2         3        4   \\\n",
       "0   Eerste halve maand                                        \n",
       "1              Ingebl:  Ingek:  uijtgeg:  overled:  blijven   \n",
       "2                   14       1         1         1       13   \n",
       "3                    2       „         „         „        2   \n",
       "4                    1       „         „         „        1   \n",
       "5                    2       „         „         „        2   \n",
       "6                    1       1        ,,         „        2   \n",
       "7                    1       1         „         „        2   \n",
       "8                    1       „         „         „        1   \n",
       "9                    3       „         „         „        3   \n",
       "10                   1       „         1         „        „   \n",
       "11                   2       „         „         „        2   \n",
       "12                   1       „         „         „        1   \n",
       "13                   7       „         1         „        6   \n",
       "14                  14       1         3         1      11.   \n",
       "15                   —       „         „         „        „   \n",
       "16          tesamen 50       4         6         2       46   \n",
       "17                                                            \n",
       "\n",
       "                   5       6         7       8        9                   10  \n",
       "0   Laaste halvemaand                                                         \n",
       "1                      Ingek:  uijtgeg:  overl:  blijven                      \n",
       "2                           1         2       1      11.           Hooftwagt  \n",
       "3                           1         „       „        3          Waterpoort  \n",
       "4                           1         2       ,        „   d’E E: agtb: wagt  \n",
       "5                           „         „       1        1           P:t Bonij  \n",
       "6                           1         „       2        1            „ Bouton  \n",
       "7                          ,,         „       „        2        „ mandersaha  \n",
       "8                           „         „       „        1           „ amboina  \n",
       "9                           „         „       „        3         „ . batsiam  \n",
       "10                          „         „       „        „          T Ravelijn  \n",
       "11                          „         „       1       1.              Redout  \n",
       "12                          „         „       „        1  de Pagger Voorsorg  \n",
       "13                          „         1       „        5  „ ambagts gesellen  \n",
       "14                          1         1       „      11.         „ Sevarende  \n",
       "15                         14         „       1       13  T schip Valkenisse  \n",
       "16                         19         6       6      53.                      \n",
       "17                                                                            "
      ]
     },
     "execution_count": 24,
     "metadata": {},
     "output_type": "execute_result"
    }
   ],
   "source": [
    "pd.DataFrame(table.values)"
   ]
  },
  {
   "cell_type": "code",
   "execution_count": null,
   "id": "7d8d3603-f861-42d4-8810-9f84ac970dbb",
   "metadata": {},
   "outputs": [],
   "source": []
  }
 ],
 "metadata": {
  "kernelspec": {
   "display_name": "Python 3 (ipykernel)",
   "language": "python",
   "name": "python3"
  },
  "language_info": {
   "codemirror_mode": {
    "name": "ipython",
    "version": 3
   },
   "file_extension": ".py",
   "mimetype": "text/x-python",
   "name": "python",
   "nbconvert_exporter": "python",
   "pygments_lexer": "ipython3",
   "version": "3.10.16"
  }
 },
 "nbformat": 4,
 "nbformat_minor": 5
}
